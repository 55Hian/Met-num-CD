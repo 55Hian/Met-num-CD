{
 "cells": [
  {
   "cell_type": "markdown",
   "metadata": {},
   "source": [
    "Represente os números que se seguem em ponto flutuante com 5 algarismos significativos usando a base 10. Se a representação não for exata, dê as duas representações:\n",
    "\n",
    " - truncada: abandonando todos os significativos após o 5º algarismo\n",
    " - arredondada: somando ½ unidade ao 6º algarismo antes de truncar \n"
   ]
  },
  {
   "cell_type": "code",
   "execution_count": null,
   "metadata": {},
   "outputs": [],
   "source": [
    "def representaNumeros(numero):\n",
    "\n",
    "    numeroString = str(numero)\n",
    "    numeroSeparado = numeroString.split('.')\n",
    "\n",
    "    numeroCaractere5 = numeroSeparado[1][4]\n",
    "    numeroCaractere5 = float(numeroCaractere5)\n",
    "\n",
    "    if(numeroCaractere5 == 0):\n",
    "        numeroTruncado = round(numero, 5)\n",
    "    else:\n",
    "        numeroTruncado = round(numero, 5)\n",
    "        numeroArredondado =  round(numeroTruncado + 0.000005, 6)\n",
    "\n",
    "    return numeroTruncado,numeroArredondado,numeroCaractere5\n",
    "\n",
    "numero = 3.14150265358979323846\n",
    "\n",
    "numeroTruncado, numeroArredondado, numeroCaractere5 = representaNumeros(numero)\n",
    "\n",
    "if(numeroCaractere5 == 0):\n",
    "    print(\"Numero original\", numero)\n",
    "    print(\"Numero truncado:\", numeroTruncado)\n",
    "else:\n",
    "    print(\"Numero original\", numero)\n",
    "    print(\"Numero truncado:\", numeroTruncado)\n",
    "    print(\"Numero Arredondado\", numeroArredondado)\n",
    "\n",
    "\n",
    "    "
   ]
  },
  {
   "cell_type": "code",
   "execution_count": 22,
   "metadata": {},
   "outputs": [
    {
     "name": "stdout",
     "output_type": "stream",
     "text": [
      "Numero original: 3.1415626535897934\n",
      "Numero truncado: 3.14156\n",
      "Numero arredondado: 3.1416000000000004\n"
     ]
    }
   ],
   "source": [
    "def representaNumeros(numero):\n",
    "    numeroString = str(numero)\n",
    "    numeroPartes = numeroString.split('.')\n",
    "    numeroCaractere5 = int(numeroPartes[1][4])\n",
    "    numeroTruncado = round(numero, 5)\n",
    "\n",
    "    if numeroCaractere5 != 0:\n",
    "        if numeroCaractere5 >= 5:\n",
    "            digito5 = float(\"0.0000\" + str(numeroCaractere5))\n",
    "            numeroArredondado = numeroTruncado + 0.0001 - digito5\n",
    "        else:\n",
    "            digito5 = float(\"0.0000\" + str(numeroCaractere5))\n",
    "            numeroArredondado = numeroTruncado - digito5\n",
    "\n",
    "        return numeroTruncado, numeroArredondado, numeroCaractere5\n",
    "    else:\n",
    "        return numeroTruncado, None, numeroCaractere5\n",
    "\n",
    "numero = float(input(\"Digite um número: \"))\n",
    "\n",
    "numeroTruncado, numeroArredondado, numeroCaractere5 = representaNumeros(numero)\n",
    "\n",
    "if numeroArredondado is not None:\n",
    "    print(\"Numero original:\", numero)\n",
    "    print(\"Numero truncado:\", numeroTruncado)\n",
    "    print(\"Numero arredondado:\", numeroArredondado)\n",
    "else:\n",
    "    print(\"Numero original:\", numero)\n",
    "    print(\"Numero truncado:\", numeroTruncado)\n"
   ]
  }
 ],
 "metadata": {
  "kernelspec": {
   "display_name": "Python 3",
   "language": "python",
   "name": "python3"
  },
  "language_info": {
   "codemirror_mode": {
    "name": "ipython",
    "version": 3
   },
   "file_extension": ".py",
   "mimetype": "text/x-python",
   "name": "python",
   "nbconvert_exporter": "python",
   "pygments_lexer": "ipython3",
   "version": "3.10.8"
  },
  "orig_nbformat": 4
 },
 "nbformat": 4,
 "nbformat_minor": 2
}
