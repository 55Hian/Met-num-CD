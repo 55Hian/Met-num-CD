{
 "cells": [
  {
   "cell_type": "markdown",
   "metadata": {},
   "source": [
    "![Alt text](image-1.png)"
   ]
  },
  {
   "cell_type": "code",
   "execution_count": 3,
   "metadata": {},
   "outputs": [
    {
     "name": "stdout",
     "output_type": "stream",
     "text": [
      "A raiz da função é aproximadamente: 1.040001392364502\n"
     ]
    }
   ],
   "source": [
    "import math\n",
    "from numpy import log as ln\n",
    "\n",
    "\n",
    "def funcao(x):\n",
    "    return x**2 + 0.96*x - 2.08\n",
    "\n",
    "    # 1 / math.sin(x) - math.tan(x)\n",
    "    # \n",
    "    # x - 2.7 * ln(x)  \n",
    "    # math.exp(-x) - math.log(x)\n",
    "    # ln(x) - math.tan(x)\n",
    "\n",
    "def dicotomia(funcao, limite_inferior, limite_superior, tolerancia):\n",
    "    while abs(limite_superior - limite_inferior) > tolerancia:\n",
    "        ponto_medio = (limite_inferior + limite_superior) / 2\n",
    "        valor_ponto_medio = funcao(ponto_medio)\n",
    "        \n",
    "        if valor_ponto_medio == 0:\n",
    "            return ponto_medio\n",
    "        elif funcao(limite_inferior) * valor_ponto_medio < 0:\n",
    "            limite_superior = ponto_medio\n",
    "        else:\n",
    "            limite_inferior = ponto_medio\n",
    "    \n",
    "    raiz_aproximada = (limite_inferior + limite_superior) / 2\n",
    "    return raiz_aproximada\n",
    "\n",
    "limite_inferior = 1 # Início do intervalo\n",
    "limite_superior = 10   # Fim do intervalo\n",
    "tolerancia = 0.00001     # Tolerância\n",
    "\n",
    "raiz = dicotomia(funcao, limite_inferior, limite_superior, tolerancia)\n",
    "print(\"A raiz da função é aproximadamente:\", raiz)\n"
   ]
  },
  {
   "cell_type": "code",
   "execution_count": null,
   "metadata": {},
   "outputs": [],
   "source": [
    "import math\n",
    "from numpy import log as ln\n",
    "\n",
    "intervalo = [1, 10] # a, b\n",
    "\n",
    "resultados = [[0,0], [0,0], [0,0], [0,0], [0,0],]\n",
    "\n",
    "bolzanoMat = [[0,0], [0,0], [0,0], [0,0], [0,0],]\n",
    "\n",
    "def func():\n",
    "    contagem = 0\n",
    "\n",
    "    for i in range(len(resultados)):\n",
    "        for j in intervalo:\n",
    "            resultados[0][contagem] = funcao1(j)\n",
    "            resultados[1][contagem] = funcao2(j)\n",
    "            resultados[2][contagem] = funcao3(j)\n",
    "            resultados[3][contagem] = funcao4(j)\n",
    "            resultados[4][contagem] = funcao5(j)\n",
    "            contagem += 1\n",
    "        contagem = 0\n",
    "    return resultados\n",
    "\n",
    "def funcao1(x):\n",
    "    return x**2 + 0.96*x - 2.08\n",
    "\n",
    "def funcao2(x):\n",
    "    return 1 / math.sin(x) - math.tan(x)\n",
    "\n",
    "def funcao3(x):\n",
    "    return x - 2.7 * ln(x)\n",
    "\n",
    "def funcao4(x):\n",
    "    return  math.exp(-x) - math.log(x)\n",
    "\n",
    "def funcao5(x):\n",
    "    return ln(x) - math.tan(x)\n",
    "\n",
    "def bissceccao(a, b):\n",
    "    y = ( a + b ) / 2\n",
    "    return y\n",
    "\n",
    "def bolzano(a, b, x):\n",
    "    inter = intervalo\n",
    "    result = resuxltados\n",
    "    for i in range(len(result)):\n",
    "        for j in range(len(inter)):\n",
    "            bolzanoMat[i][j] = abs(result[i][j] - inter[j])\n",
    "            print(result[i][j])\n",
    "            print(inter[j])\n",
    "    return bolzanoMat\n",
    "\n",
    "funcoes = func()\n",
    "x = bissceccao(intervalo[0], intervalo[1])\n",
    "intervalos = bolzano(intervalo[0], intervalo[1], x)\n",
    "\n",
    "print(funcoes)\n",
    "print(x)\n",
    "print(intervalos)"
   ]
  }
 ],
 "metadata": {
  "kernelspec": {
   "display_name": "Python 3",
   "language": "python",
   "name": "python3"
  },
  "language_info": {
   "codemirror_mode": {
    "name": "ipython",
    "version": 3
   },
   "file_extension": ".py",
   "mimetype": "text/x-python",
   "name": "python",
   "nbconvert_exporter": "python",
   "pygments_lexer": "ipython3",
   "version": "3.10.8"
  }
 },
 "nbformat": 4,
 "nbformat_minor": 2
}
