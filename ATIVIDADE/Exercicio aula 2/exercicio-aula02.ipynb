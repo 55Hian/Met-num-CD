{
 "cells": [
  {
   "cell_type": "markdown",
   "metadata": {},
   "source": [
    "![Alt text](image-1.png)"
   ]
  },
  {
   "cell_type": "code",
   "execution_count": 3,
   "metadata": {},
   "outputs": [
    {
     "name": "stdout",
     "output_type": "stream",
     "text": [
      "A raiz da função é aproximadamente: 1.040001392364502\n"
     ]
    }
   ],
   "source": [
    "import math\n",
    "from numpy import log as ln\n",
    "\n",
    "\n",
    "def funcao(x):\n",
    "    return x**2 + 0.96*x - 2.08\n",
    "\n",
    "    # 1 / math.sin(x) - math.tan(x)\n",
    "    # \n",
    "    # x - 2.7 * ln(x)  \n",
    "    # math.exp(-x) - math.log(x)\n",
    "    # ln(x) - math.tan(x)\n",
    "\n",
    "def dicotomia(funcao, limite_inferior, limite_superior, tolerancia):\n",
    "    while abs(limite_superior - limite_inferior) > tolerancia:\n",
    "        ponto_medio = (limite_inferior + limite_superior) / 2\n",
    "        valor_ponto_medio = funcao(ponto_medio)\n",
    "        \n",
    "        if valor_ponto_medio == 0:\n",
    "            return ponto_medio\n",
    "        elif funcao(limite_inferior) * valor_ponto_medio < 0:\n",
    "            limite_superior = ponto_medio\n",
    "        else:\n",
    "            limite_inferior = ponto_medio\n",
    "    \n",
    "    raiz_aproximada = (limite_inferior + limite_superior) / 2\n",
    "    return raiz_aproximada\n",
    "\n",
    "limite_inferior = 1 # Início do intervalo\n",
    "limite_superior = 10   # Fim do intervalo\n",
    "tolerancia = 0.00001     # Tolerância\n",
    "\n",
    "raiz = dicotomia(funcao, limite_inferior, limite_superior, tolerancia)\n",
    "print(\"A raiz da função é aproximadamente:\", raiz)\n"
   ]
  }
 ],
 "metadata": {
  "kernelspec": {
   "display_name": "Python 3",
   "language": "python",
   "name": "python3"
  },
  "language_info": {
   "codemirror_mode": {
    "name": "ipython",
    "version": 3
   },
   "file_extension": ".py",
   "mimetype": "text/x-python",
   "name": "python",
   "nbconvert_exporter": "python",
   "pygments_lexer": "ipython3",
   "version": "3.10.8"
  }
 },
 "nbformat": 4,
 "nbformat_minor": 2
}
