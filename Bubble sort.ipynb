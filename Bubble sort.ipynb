{
 "cells": [
  {
   "cell_type": "markdown",
   "metadata": {},
   "source": [
    "# Bubble sort"
   ]
  },
  {
   "cell_type": "code",
   "execution_count": 8,
   "metadata": {},
   "outputs": [
    {
     "name": "stdout",
     "output_type": "stream",
     "text": [
      "[1, 2, 3, 3, 5, 6, 6, 7, 8, 9]\n"
     ]
    }
   ],
   "source": [
    "def bubble_sort(valores):\n",
    "    operacoes = len(valores) - 1\n",
    "    numeroEmOrdem = False\n",
    "    while numeroEmOrdem == False:\n",
    "        numeroEmOrdem = True\n",
    "        for numero in range(0, operacoes):\n",
    "            if valores[numero] > valores[numero + 1]:\n",
    "                numeroEmOrdem = False\n",
    "                valores[numero], valores[numero+1] = valores[numero+1], valores[numero]\n",
    "    return valores\n",
    "\n",
    "print(bubble_sort([9,7,6,8,6,5,3,2,3,1]))"
   ]
  },
  {
   "cell_type": "markdown",
   "metadata": {},
   "source": [
    "# Quick sort"
   ]
  },
  {
   "cell_type": "code",
   "execution_count": 16,
   "metadata": {},
   "outputs": [
    {
     "name": "stdout",
     "output_type": "stream",
     "text": [
      "[3, 4, 4, 4, 5, 5, 6, 7, 7, 8, 9, 32, 34, 36, 57, 678, 868]\n"
     ]
    }
   ],
   "source": [
    "def quick_sort(valores):\n",
    "    tamanhoValores = len(valores)\n",
    "    if tamanhoValores <= 1:\n",
    "        return valores\n",
    "    else:\n",
    "        pivo = valores.pop()\n",
    "\n",
    "    valoresMaiorPivo = []\n",
    "    valoresMenorPivo = []\n",
    "\n",
    "    for numeros in valores:\n",
    "        if numeros > pivo:\n",
    "            valoresMaiorPivo.append(numeros)\n",
    "        else:\n",
    "            valoresMenorPivo.append(numeros)\n",
    "\n",
    "    return quick_sort(valoresMenorPivo) + [pivo] + quick_sort(valoresMaiorPivo)\n",
    "\n",
    "print(quick_sort([7,6,4,7,9,5,3,4,57,868,32,5,4,8,678,34,36]))\n"
   ]
  }
 ],
 "metadata": {
  "kernelspec": {
   "display_name": "Python 3",
   "language": "python",
   "name": "python3"
  },
  "language_info": {
   "codemirror_mode": {
    "name": "ipython",
    "version": 3
   },
   "file_extension": ".py",
   "mimetype": "text/x-python",
   "name": "python",
   "nbconvert_exporter": "python",
   "pygments_lexer": "ipython3",
   "version": "3.10.8"
  }
 },
 "nbformat": 4,
 "nbformat_minor": 2
}
