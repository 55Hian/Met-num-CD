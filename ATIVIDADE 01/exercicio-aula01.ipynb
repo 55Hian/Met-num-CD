{
 "cells": [
  {
   "cell_type": "code",
   "execution_count": 2,
   "metadata": {},
   "outputs": [
    {
     "name": "stdout",
     "output_type": "stream",
     "text": [
      "Numero original: 3.141567\n",
      "Numero truncado: 3.14157\n",
      "Numero arredondado: 3.1416100000000005\n"
     ]
    }
   ],
   "source": [
    "def representaNumeros(numero):\n",
    "    numeroString = str(numero)\n",
    "    numeroPartes = numeroString.split('.')\n",
    "    numeroCaractere5 = int(numeroPartes[1][4])\n",
    "    numeroTruncado = round(numero, 5)\n",
    "\n",
    "    if numeroCaractere5 != 0:\n",
    "        if numeroCaractere5 >= 5:\n",
    "            digito5 = float(\"0.0000\" + str(numeroCaractere5))\n",
    "            numeroArredondado = numeroTruncado + 0.0001 - digito5\n",
    "        else:\n",
    "            digito5 = float(\"0.0000\" + str(numeroCaractere5))\n",
    "            numeroArredondado = numeroTruncado - digito5\n",
    "\n",
    "        return numeroTruncado, numeroArredondado, numeroCaractere5\n",
    "    else:\n",
    "        return numeroTruncado, None, numeroCaractere5\n",
    "\n",
    "numero = float(input(\"Digite um número: \"))\n",
    "\n",
    "numeroTruncado, numeroArredondado, numeroCaractere5 = representaNumeros(numero)\n",
    "\n",
    "if numeroArredondado is not None:\n",
    "    print(\"Numero original:\", numero)\n",
    "    print(\"Numero truncado:\", numeroTruncado)\n",
    "    print(\"Numero arredondado:\", numeroArredondado)\n",
    "else:\n",
    "    print(\"Numero original:\", numero)\n",
    "    print(\"Numero truncado:\", numeroTruncado)\n"
   ]
  }
 ],
 "metadata": {
  "kernelspec": {
   "display_name": "Python 3",
   "language": "python",
   "name": "python3"
  },
  "language_info": {
   "codemirror_mode": {
    "name": "ipython",
    "version": 3
   },
   "file_extension": ".py",
   "mimetype": "text/x-python",
   "name": "python",
   "nbconvert_exporter": "python",
   "pygments_lexer": "ipython3",
   "version": "3.10.8"
  }
 },
 "nbformat": 4,
 "nbformat_minor": 2
}
