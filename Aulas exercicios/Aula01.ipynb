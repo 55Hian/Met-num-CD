{
 "cells": [
  {
   "cell_type": "markdown",
   "metadata": {},
   "source": [
    "Represente os números que se seguem em ponto flutuante com 5 algarismos significativos usando a base 10. Se a representação não for exata, dê as duas representações:\n",
    "\n",
    " - truncada: abandonando todos os significativos após o 5º algarismo\n",
    " - arredondada: somando ½ unidade ao 6º algarismo antes de truncar \n"
   ]
  },
  {
   "cell_type": "code",
   "execution_count": 19,
   "metadata": {},
   "outputs": [
    {
     "ename": "UnboundLocalError",
     "evalue": "local variable 'numeroArredondado' referenced before assignment",
     "output_type": "error",
     "traceback": [
      "\u001b[0;31m---------------------------------------------------------------------------\u001b[0m",
      "\u001b[0;31mUnboundLocalError\u001b[0m                         Traceback (most recent call last)",
      "Cell \u001b[0;32mIn[19], line 19\u001b[0m\n\u001b[1;32m     15\u001b[0m     \u001b[39mreturn\u001b[39;00m numeroTruncado,numeroArredondado,numeroCaractere5\n\u001b[1;32m     17\u001b[0m numero \u001b[39m=\u001b[39m \u001b[39m3.14150265358979323846\u001b[39m\n\u001b[0;32m---> 19\u001b[0m numeroTruncado, numeroArredondado, numeroCaractere5 \u001b[39m=\u001b[39m representaNumeros(numero)\n\u001b[1;32m     21\u001b[0m \u001b[39mif\u001b[39;00m(numeroCaractere5 \u001b[39m==\u001b[39m \u001b[39m0\u001b[39m):\n\u001b[1;32m     22\u001b[0m     \u001b[39mprint\u001b[39m(\u001b[39m\"\u001b[39m\u001b[39mNumero original\u001b[39m\u001b[39m\"\u001b[39m, numero)\n",
      "Cell \u001b[0;32mIn[19], line 15\u001b[0m, in \u001b[0;36mrepresentaNumeros\u001b[0;34m(numero)\u001b[0m\n\u001b[1;32m     12\u001b[0m     numeroTruncado \u001b[39m=\u001b[39m \u001b[39mround\u001b[39m(numero, \u001b[39m5\u001b[39m)\n\u001b[1;32m     13\u001b[0m     numeroArredondado \u001b[39m=\u001b[39m  \u001b[39mround\u001b[39m(numeroTruncado \u001b[39m+\u001b[39m \u001b[39m0.000005\u001b[39m, \u001b[39m6\u001b[39m)\n\u001b[0;32m---> 15\u001b[0m \u001b[39mreturn\u001b[39;00m numeroTruncado,numeroArredondado,numeroCaractere5\n",
      "\u001b[0;31mUnboundLocalError\u001b[0m: local variable 'numeroArredondado' referenced before assignment"
     ]
    }
   ],
   "source": [
    "def representaNumeros(numero):\n",
    "\n",
    "    numeroString = str(numero)\n",
    "    numeroSeparado = numeroString.split('.')\n",
    "\n",
    "    numeroCaractere5 = numeroSeparado[1][4]\n",
    "    numeroCaractere5 = float(numeroCaractere5)\n",
    "\n",
    "    if(numeroCaractere5 == 0):\n",
    "        numeroTruncado = round(numero, 5)\n",
    "    else:\n",
    "        numeroTruncado = round(numero, 5)\n",
    "        numeroArredondado =  round(numeroTruncado + 0.000005, 6)\n",
    "\n",
    "    return numeroTruncado,numeroArredondado,numeroCaractere5\n",
    "\n",
    "numero = 3.14150265358979323846\n",
    "\n",
    "numeroTruncado, numeroArredondado, numeroCaractere5 = representaNumeros(numero)\n",
    "\n",
    "if(numeroCaractere5 == 0):\n",
    "    print(\"Numero original\", numero)\n",
    "    print(\"Numero truncado:\", numeroTruncado)\n",
    "else:\n",
    "    print(\"Numero original\", numero)\n",
    "    print(\"Numero truncado:\", numeroTruncado)\n",
    "    print(\"Numero Arredondado\", numeroArredondado)"
   ]
  }
 ],
 "metadata": {
  "kernelspec": {
   "display_name": "Python 3",
   "language": "python",
   "name": "python3"
  },
  "language_info": {
   "codemirror_mode": {
    "name": "ipython",
    "version": 3
   },
   "file_extension": ".py",
   "mimetype": "text/x-python",
   "name": "python",
   "nbconvert_exporter": "python",
   "pygments_lexer": "ipython3",
   "version": "3.10.8"
  },
  "orig_nbformat": 4
 },
 "nbformat": 4,
 "nbformat_minor": 2
}
